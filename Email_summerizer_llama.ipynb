{
 "cells": [
  {
   "cell_type": "markdown",
   "metadata": {},
   "source": [
    "# NLP Course Project: Email Summerizer "
   ]
  },
  {
   "cell_type": "markdown",
   "metadata": {},
   "source": [
    "## Code"
   ]
  },
  {
   "cell_type": "code",
   "execution_count": null,
   "metadata": {},
   "outputs": [],
   "source": [
    "# import \n",
    "import ollama "
   ]
  },
  {
   "cell_type": "code",
   "execution_count": null,
   "metadata": {},
   "outputs": [
    {
     "name": "stdout",
     "output_type": "stream",
     "text": [
      "\n",
      " \n",
      "Subject: Invitation to Apply - Marketing Coordinator Position at GreenTech Inc.\n",
      "\n",
      "Dear Ms. Thompson,\n",
      "\n",
      "We appreciate your interest in the Marketing Coordinator position at GreenTech Inc., and we are pleased to inform you that our team has reviewed your application materials. Your experience in social media management and content creation aligns with our requirements for this role, and your passion for sustainability resonates well with our company values.\n",
      "\n",
      "After careful consideration, we would like to invite you to participate in a series of interviews to further assess your qualifications and fit within our organization. The interviews will be held on the following dates:\n",
      "\n",
      "* Tuesday, March 14th at 2 PM EST (approximate duration: 1 hour)\n",
      "* Thursday, March 16th at 10 AM EST (approximate duration: 1 hour)\n",
      "\n",
      "During these sessions, you'll have the opportunity to discuss your experience and approach in more detail with our hiring team. Please note that we will be conducting both in-person and remote interviews.\n",
      "\n",
      "To confirm your availability for one of these interview slots, please reply to this email or give us a call at (555) 123-4567 within the next two business days. We look forward to hearing back from you soon and exploring how you can contribute to our marketing efforts.\n",
      "\n",
      "Best regards,\n",
      "Alex Chen\n",
      "Talent Acquisition Specialist\n",
      "\n",
      " \n",
      "Subject: Re: Interview Invitation - Customer Service Representative Position\n",
      "\n",
      "Dear Emily,\n",
      "\n",
      "Thank you for your interest in the Customer Service Representative position at Green Earth Inc. We appreciate the time and effort you took to apply for this role.\n",
      "\n",
      "After careful consideration, I regret to inform you that we will not be moving forward with your application at this time. Our team has selected other candidates whose skills and experience are a better fit for our requirements.\n",
      "\n",
      "Please know that this decision is in no way a reflection on your qualifications or potential as a candidate. We appreciate the interest you showed in joining our company, and I encourage you to explore opportunities within Green Earth Inc. in the future.\n",
      "\n",
      "If you have any questions or concerns regarding this decision, please do not hesitate to reach out to me directly.\n",
      "\n",
      "Best regards,\n",
      "Jamie Brown\n",
      "Hiring Manager\n",
      "\n",
      " \n",
      "From: hiringmanager@acmecorp.com\n",
      "To: john.doe@email.com\n",
      "Subject: Job Application Update - Graphic Designer Position\n",
      "\n",
      "Dear John,\n",
      "\n",
      "Thank you for applying to the Graphic Designer position at ACME Corp. We appreciate the time and effort you took to submit your application, resume, and cover letter.\n",
      "\n",
      "After careful consideration, we regret to inform you that we will not be moving forward with your application at this time. Our hiring process is highly competitive, and unfortunately, we were unable to identify a strong fit for this role based on your qualifications and experience.\n",
      "\n",
      "Please know that this decision is in no way a reflection on your skills or potential as a designer. We encourage you to continue pursuing opportunities that align with your career goals.\n",
      "\n",
      "Thank you again for considering ACME Corp. We wish you the best of luck in your job search.\n",
      "\n",
      "Best regards,\n",
      "Rachel Chen\n",
      "Hiring Manager\n",
      "\n",
      " \n",
      "Subject: Your Interview Time Options\n",
      "\n",
      "Dear Emily,\n",
      "\n",
      "We were impressed by your background and skills, and would like to schedule a further conversation with you. We have several time slots available this week, and are trying to arrange something that will work for you.\n",
      "\n",
      "Would Monday at 2 PM or Wednesday at 10 AM be suitable? Alternatively, we could also consider Thursday afternoon if those options do not fit your schedule.\n",
      "\n",
      " \n",
      "Subject: Invitation to Apply - Marketing Coordinator Position\n",
      "\n",
      "Dear [Name],\n",
      "\n",
      "We are excited about your interest in the Marketing Coordinator position at Spark Ventures! As we continue to review applications, we would like to extend an invitation for you to participate in our interview process.\n",
      "\n",
      "The following dates and times have been scheduled:\n",
      "\n",
      "* Monday, April 17th at 2:00 PM EST\n",
      "* Wednesday, April 19th at 11:00 AM EST\n",
      "\n",
      "To confirm your availability or request an alternative time slot, please reply to this email by Friday, April 14th. We look forward to discussing the position further with you.\n",
      "\n",
      "Best regards,\n",
      "Ava Jenkins\n"
     ]
    },
    {
     "data": {
      "text/plain": [
       "[\"Subject: Invitation to Apply - Marketing Coordinator Position at GreenTech Inc.\\n\\nDear Ms. Thompson,\\n\\nWe appreciate your interest in the Marketing Coordinator position at GreenTech Inc., and we are pleased to inform you that our team has reviewed your application materials. Your experience in social media management and content creation aligns with our requirements for this role, and your passion for sustainability resonates well with our company values.\\n\\nAfter careful consideration, we would like to invite you to participate in a series of interviews to further assess your qualifications and fit within our organization. The interviews will be held on the following dates:\\n\\n* Tuesday, March 14th at 2 PM EST (approximate duration: 1 hour)\\n* Thursday, March 16th at 10 AM EST (approximate duration: 1 hour)\\n\\nDuring these sessions, you'll have the opportunity to discuss your experience and approach in more detail with our hiring team. Please note that we will be conducting both in-person and remote interviews.\\n\\nTo confirm your availability for one of these interview slots, please reply to this email or give us a call at (555) 123-4567 within the next two business days. We look forward to hearing back from you soon and exploring how you can contribute to our marketing efforts.\\n\\nBest regards,\\nAlex Chen\\nTalent Acquisition Specialist\",\n",
       " 'Subject: Re: Interview Invitation - Customer Service Representative Position\\n\\nDear Emily,\\n\\nThank you for your interest in the Customer Service Representative position at Green Earth Inc. We appreciate the time and effort you took to apply for this role.\\n\\nAfter careful consideration, I regret to inform you that we will not be moving forward with your application at this time. Our team has selected other candidates whose skills and experience are a better fit for our requirements.\\n\\nPlease know that this decision is in no way a reflection on your qualifications or potential as a candidate. We appreciate the interest you showed in joining our company, and I encourage you to explore opportunities within Green Earth Inc. in the future.\\n\\nIf you have any questions or concerns regarding this decision, please do not hesitate to reach out to me directly.\\n\\nBest regards,\\nJamie Brown\\nHiring Manager',\n",
       " 'From: hiringmanager@acmecorp.com\\nTo: john.doe@email.com\\nSubject: Job Application Update - Graphic Designer Position\\n\\nDear John,\\n\\nThank you for applying to the Graphic Designer position at ACME Corp. We appreciate the time and effort you took to submit your application, resume, and cover letter.\\n\\nAfter careful consideration, we regret to inform you that we will not be moving forward with your application at this time. Our hiring process is highly competitive, and unfortunately, we were unable to identify a strong fit for this role based on your qualifications and experience.\\n\\nPlease know that this decision is in no way a reflection on your skills or potential as a designer. We encourage you to continue pursuing opportunities that align with your career goals.\\n\\nThank you again for considering ACME Corp. We wish you the best of luck in your job search.\\n\\nBest regards,\\nRachel Chen\\nHiring Manager',\n",
       " 'Subject: Your Interview Time Options\\n\\nDear Emily,\\n\\nWe were impressed by your background and skills, and would like to schedule a further conversation with you. We have several time slots available this week, and are trying to arrange something that will work for you.\\n\\nWould Monday at 2 PM or Wednesday at 10 AM be suitable? Alternatively, we could also consider Thursday afternoon if those options do not fit your schedule.',\n",
       " 'Subject: Invitation to Apply - Marketing Coordinator Position\\n\\nDear [Name],\\n\\nWe are excited about your interest in the Marketing Coordinator position at Spark Ventures! As we continue to review applications, we would like to extend an invitation for you to participate in our interview process.\\n\\nThe following dates and times have been scheduled:\\n\\n* Monday, April 17th at 2:00 PM EST\\n* Wednesday, April 19th at 11:00 AM EST\\n\\nTo confirm your availability or request an alternative time slot, please reply to this email by Friday, April 14th. We look forward to discussing the position further with you.\\n\\nBest regards,\\nAva Jenkins']"
      ]
     },
     "execution_count": 10,
     "metadata": {},
     "output_type": "execute_result"
    }
   ],
   "source": [
    "class Email:\n",
    "    \n",
    "    def __init__(self):\n",
    "        #define email list \n",
    "        self.email_list = []\n",
    "        self.meta = 'llama3.1:latest'\n",
    "    \n",
    "    # Data Generation (instead of using existing data)\n",
    "    def generate_emails(self):\n",
    "        \n",
    "        #define the prompt       \n",
    "        generate_email = \"\"\"please generate a random email as realistically as possible, pick between these catagories. Do not include any extra information other than the content i asked for. Do not include any introductory text or explanations.\n",
    "        1. A job rejection email,\n",
    "        2. a letter from a personal friend, \n",
    "        3. an email reaching out to request availability for an interview, \n",
    "        4. a marketing email,\n",
    "        5. a phising email\"\"\"\n",
    "\n",
    "        #generatie 5 emails \n",
    "        for i in range(5):\n",
    "            email = ollama.generate(model = self.meta, prompt = generate_email)\n",
    "            self.email_list.append(email['response'])\n",
    "            print(f\"\\n \\n{email['response']}\")\n",
    "            \n",
    "        return self.email_list\n",
    "    \n",
    "    def summerize(self):\n",
    "        \n",
    "        # define prompt to summarize text \n",
    "        prompt = f\" summerize each of these emails {self.email_list} and give me a category depicting the type of email and also give me THE MOST consise summery of the emails(max one sentence). Do not give me any extea information, Do not add any introductory text or explanation \"\n",
    "        \n",
    "        #generate summeries\n",
    "        summary = ollama.generate(model= self.meta, prompt = prompt)\n",
    "        \n",
    "        #return summary \n",
    "        return summary['response']\n",
    "    \n",
    "\n",
    "email_object = Email()\n",
    "email_object.generate_emails()\n",
    "    \n"
   ]
  },
  {
   "cell_type": "code",
   "execution_count": 11,
   "metadata": {},
   "outputs": [
    {
     "data": {
      "text/plain": [
       "\"Here are the categorizations and concise summaries:\\n\\n**1. Invitation to Apply - Marketing Coordinator Position at GreenTech Inc.**\\n\\nInviting Ms. Thompson to participate in a series of interviews for the Marketing Coordinator position.\\n\\n**2. Re: Interview Invitation - Customer Service Representative Position**\\n\\nDeclining Emily's application for the Customer Service Representative position due to other candidates being selected.\\n\\n**3. Job Application Update - Graphic Designer Position**\\n\\nInforming John that his application was not selected for the Graphic Designer position at ACME Corp.\\n\\n**4. Your Interview Time Options**\\n\\nScheduling an interview with Emily on one of several available time slots.\\n\\n**5. Invitation to Apply - Marketing Coordinator Position**\\n\\nInviting [Name] to participate in the interview process for the Marketing Coordinator position at Spark Ventures.\""
      ]
     },
     "execution_count": 11,
     "metadata": {},
     "output_type": "execute_result"
    }
   ],
   "source": [
    "email_object.summerize()"
   ]
  },
  {
   "cell_type": "markdown",
   "metadata": {},
   "source": [
    "## Output "
   ]
  },
  {
   "cell_type": "markdown",
   "metadata": {},
   "source": [
    "Here are the categorizations and concise summaries:\n",
    "\n",
    "**1. Invitation to Apply - Marketing Coordinator Position at GreenTech Inc.**:\n",
    "Inviting Ms. Thompson to participate in a series of interviews for the Marketing Coordinator position.\n",
    "\n",
    "**2. Re: Interview Invitation - Customer Service Representative Position**\\n\\n:\n",
    "Declining Emily's application for the Customer Service Representative position due to other candidates being selected.\\n\\n\n",
    "\n",
    "**3. Job Application Update - Graphic Designer Position**:\n",
    "Informing John that his application was not selected for the Graphic Designer position at ACME Corp.\n",
    "\n",
    "**4. Your Interview Time Options**:\n",
    "Scheduling an interview with Emily on one of several available time slots.\n",
    "\n",
    "**5. Invitation to Apply - Marketing Coordinator Position**:\n",
    "Inviting [Name] to participate in the interview process for the Marketing Coordinator position at Spark Ventures."
   ]
  },
  {
   "cell_type": "markdown",
   "metadata": {},
   "source": [
    "## Results "
   ]
  },
  {
   "cell_type": "markdown",
   "metadata": {},
   "source": [
    "Using the Llama 3.1 8B model, I was able to both generate and summarize the email data. I could have used a Google API and pulled in some real Gmail emails for the model to summarize, but I found the idea of having the LLM generate its own data very profound. The data generated was quite high quality even though a relatively low-cost model was used, which was intriguing.\n",
    "\n",
    "The summaries were pretty clear, concise, and captured all the details of the emails in a single sentence as any good summarizer should. A lot of that had to do with good prompt engineering and less about the model used, depicting the importance of good prompt engineering in this day and age of technology.\n",
    "\n",
    "The main caveat here was that I used Meta's open-source Llama 3.1 model with 8B parameters. This model wasn't really built for high-quality direct inference, but the results show that for simple tasks, the heavier, more expensive model is NOT needed. Picking a model with the required capabilities is more important, as this smaller model would significantly reduce costs on a production level compared to its larger 70B and 405B counterparts.\n",
    "\n",
    "\n",
    "**You will not find a copy of this code anywhere as it is my own, nor was any of this code generated by an LLM**"
   ]
  }
 ],
 "metadata": {
  "kernelspec": {
   "display_name": "Python 3",
   "language": "python",
   "name": "python3"
  },
  "language_info": {
   "codemirror_mode": {
    "name": "ipython",
    "version": 3
   },
   "file_extension": ".py",
   "mimetype": "text/x-python",
   "name": "python",
   "nbconvert_exporter": "python",
   "pygments_lexer": "ipython3",
   "version": "3.11.4"
  }
 },
 "nbformat": 4,
 "nbformat_minor": 2
}
